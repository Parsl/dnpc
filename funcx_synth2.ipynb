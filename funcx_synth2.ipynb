{
 "cells": [
  {
   "cell_type": "markdown",
   "id": "1db58aed",
   "metadata": {},
   "source": [
    "# funcx_synth2 run analysis\n",
    "\n",
    "Using just the data I can already extract... without falling into the temptation to modify funcx"
   ]
  },
  {
   "cell_type": "code",
   "execution_count": 2,
   "id": "025f1d45",
   "metadata": {},
   "outputs": [],
   "source": [
    "import matplotlib.pyplot as plt\n",
    "import sqlite3"
   ]
  },
  {
   "cell_type": "markdown",
   "id": "5ab84475",
   "metadata": {},
   "source": [
    "## open the database"
   ]
  },
  {
   "cell_type": "code",
   "execution_count": 8,
   "id": "03796649",
   "metadata": {},
   "outputs": [],
   "source": [
    "db = sqlite3.connect(\"dnpc.sqlite3\")\n",
    "c = db.cursor()"
   ]
  },
  {
   "cell_type": "markdown",
   "id": "a38cdb70",
   "metadata": {},
   "source": [
    "# count how many different span types are in the database"
   ]
  },
  {
   "cell_type": "code",
   "execution_count": 10,
   "id": "c35809c2",
   "metadata": {
    "scrolled": true
   },
   "outputs": [
    {
     "name": "stdout",
     "output_type": "stream",
     "text": [
      "('synthetic.task.submit', 1000)\n",
      "('synthetic.task.worker', 1000)\n"
     ]
    }
   ],
   "source": [
    "for row in c.execute(\"SELECT type, COUNT(type) FROM span GROUP BY type\"):\n",
    "    print(row)"
   ]
  },
  {
   "cell_type": "code",
   "execution_count": null,
   "id": "4b5f1061",
   "metadata": {},
   "outputs": [],
   "source": []
  },
  {
   "cell_type": "markdown",
   "id": "73d770d4",
   "metadata": {},
   "source": [
    "## funcX, without any parsl"
   ]
  },
  {
   "cell_type": "markdown",
   "id": "5a285259",
   "metadata": {},
   "source": [
    "funcX is not built for being monitored.\n",
    "\n",
    "There are three broad sources of data that a user might have access to.\n",
    "\n",
    "i) on their submit side, they might record their own timing information (or turn on logging for the funcX submitting code), giving them some data in a log file or database\n",
    "\n",
    "ii) the relevant funcX endpoint(s) know about task execution and if correctly configured will log out a lot of data\n",
    "\n",
    "iii) the centrally hosted services know about every task and log some information to cloudwatch\n",
    "\n",
    "Any given monitoring user will have access to one of the seven possible non-empty subsets of this information, and it would be useful to be able to make whichever analyses are possible in all seven situations - there should be \"graceful degradation\" of monitoring power."
   ]
  },
  {
   "cell_type": "code",
   "execution_count": 12,
   "id": "9898d6eb",
   "metadata": {},
   "outputs": [],
   "source": [
    "# so to begin with, as a submitter, without any access either to endpoint or central service logs, what\n",
    "# sort of information can I see?\n",
    "\n",
    "# Here are two sources:\n",
    "# i) I can collect timings of submitting tasks and collecting results\n",
    "# ii) I can collect timings inside my remote task, and return those timings as part of the result.\n",
    "\n",
    "# I can then import those into the database, and make similar looking queries against them.\n",
    "\n",
    "# This notebook does not show the import, but assumes by this stage an import has been done\n",
    "\n",
    "# This data can exist alongside the above parsl/work queue related data in the same database.\n",
    "# The records do not conflict.\n",
    "\n",
    "# This is an example of higher-level application specific monitoring data: the component we are using (funcx)\n",
    "# doesn't really know what's being monitored, and there isn't any particularly live monitoring system at the\n",
    "# time of execution, beyond a few log statements.\n",
    "# So there (necessarily?) is a custom importer, reflecting that the code to record the monitoring info is custom."
   ]
  },
  {
   "cell_type": "markdown",
   "id": "044b9116",
   "metadata": {},
   "source": [
    "## how long does the application worker thinks tasks took?"
   ]
  },
  {
   "cell_type": "code",
   "execution_count": 21,
   "id": "0a693705",
   "metadata": {},
   "outputs": [
    {
     "name": "stdout",
     "output_type": "stream",
     "text": [
      "count of rows: 1000\n",
      "first row: ('0f1a2719-3973-495b-be57-2c46a63ba252', '1659518799.21804', '1659518799.21804', 0.0)\n"
     ]
    }
   ],
   "source": [
    "sql= \"\"\"\n",
    "select start_event.time as start,\n",
    "       end_event.time as end,\n",
    "       end_event.time - start_event.time\n",
    "\n",
    "  from span,\n",
    "       event as start_event,\n",
    "       event as end_event\n",
    "\n",
    " where span.type='synthetic.task.worker'\n",
    "\n",
    "   and start_event.span_uuid = span.uuid\n",
    "   and start_event.type = 'start'\n",
    "\n",
    "   and end_event.span_uuid = span.uuid\n",
    "   and end_event.type = 'end'\n",
    ";\"\"\"\n",
    "\n",
    "sql= \"\"\"\n",
    "select span.uuid, start_event.time, end_event.time, end_event.time - start_event.time\n",
    "from span, \n",
    "     event as start_event,\n",
    "     event as end_event\n",
    "where span.type = 'synthetic.task.worker'\n",
    "  and start_event.span_uuid = span.uuid\n",
    "  and start_event.type = 'start'\n",
    "  and end_event.span_uuid = span.uuid\n",
    "  and end_event.type <> 'start'\n",
    "\n",
    "\"\"\"\n",
    "rows = list(c.execute(sql))\n",
    "print(f\"count of rows: {len(rows)}\")\n",
    "print(f\"first row: {rows[0]}\")\n"
   ]
  },
  {
   "cell_type": "code",
   "execution_count": 23,
   "id": "660a5387",
   "metadata": {
    "scrolled": true
   },
   "outputs": [
    {
     "data": {
      "image/png": "[encoded data removed]",
      "text/plain": [
       "<Figure size 432x288 with 1 Axes>"
      ]
     },
     "metadata": {
      "needs_background": "light"
     },
     "output_type": "display_data"
    }
   ],
   "source": [
    "durations = [r[3] for r in rows]\n",
    "\n",
    "plt.hist(durations)\n",
    "plt.xlabel(\"duration / seconds\")\n",
    "plt.ylabel(\"number of tasks in bin\")\n",
    "plt.show()"
   ]
  },
  {
   "cell_type": "code",
   "execution_count": 25,
   "id": "e446ec29",
   "metadata": {},
   "outputs": [
    {
     "name": "stdout",
     "output_type": "stream",
     "text": [
      "count of rows: 1000\n",
      "first row: ('17ca7661-646e-4c51-811a-a95dc6d7e33f', '1659518795.71679', '1659518799.37267', 3.6558799743652344)\n"
     ]
    },
    {
     "data": {
      "image/png": "[encoded data removed]",
      "text/plain": [
       "<Figure size 432x288 with 1 Axes>"
      ]
     },
     "metadata": {
      "needs_background": "light"
     },
     "output_type": "display_data"
    }
   ],
   "source": [
    "\n",
    "sql= \"\"\"\n",
    "select span.uuid, start_event.time, end_event.time, end_event.time - start_event.time\n",
    "from span, \n",
    "     event as start_event,\n",
    "     event as end_event\n",
    "where span.type = 'synthetic.task.submit'\n",
    "  and start_event.span_uuid = span.uuid\n",
    "  and start_event.type = 'submit'\n",
    "  and end_event.span_uuid = span.uuid\n",
    "  and end_event.type = 'result_retrieved'\n",
    "\n",
    "\"\"\"\n",
    "rows = list(c.execute(sql))\n",
    "print(f\"count of rows: {len(rows)}\")\n",
    "print(f\"first row: {rows[0]}\")\n",
    "durations = [r[3] for r in rows]\n",
    "\n",
    "plt.hist(durations)\n",
    "plt.xlabel(\"duration / seconds\")\n",
    "plt.ylabel(\"number of tasks in bin\")\n",
    "plt.show()"
   ]
  },
  {
   "cell_type": "code",
   "execution_count": 28,
   "id": "15d7e0ad",
   "metadata": {},
   "outputs": [],
   "source": [
    "# That's probably because we don't checking for results until everything has been submitted - so a bunch of\n",
    "# could complete in this time?"
   ]
  },
  {
   "cell_type": "code",
   "execution_count": 29,
   "id": "0a76f4ce",
   "metadata": {},
   "outputs": [],
   "source": [
    "# let's see what the time difference looks like between the worker side ending and the result being processed\n",
    "# on the submit side.\n",
    "\n",
    "# to do that, we need to join the two spans together somehow.\n",
    "\n",
    "# in the log file, we have a task number for both types of span, so we can use that to create a link between\n",
    "# the two in the database.\n",
    "\n",
    "# there's a sort of natural hierarchy here: the remote execution could be regarded as \"inside\" the submit side\n",
    "# code. if we're going to believe that argument, the the remote span should be a subspan of the submit span.\n",
    "# and the importer should be made to represent that in the `subspan` table."
   ]
  },
  {
   "cell_type": "code",
   "execution_count": 31,
   "id": "10a4a79d",
   "metadata": {},
   "outputs": [
    {
     "name": "stdout",
     "output_type": "stream",
     "text": [
      "1000\n",
      "(0.15462994575500488,)\n"
     ]
    },
    {
     "data": {
      "image/png": "[encoded data removed]",
      "text/plain": [
       "<Figure size 432x288 with 1 Axes>"
      ]
     },
     "metadata": {
      "needs_background": "light"
     },
     "output_type": "display_data"
    }
   ],
   "source": [
    "sql= \"\"\"\n",
    "select end_event.time - start_event.time\n",
    "from span as submit_span,\n",
    "     span as remote_span,\n",
    "     event as start_event,\n",
    "     event as end_event,\n",
    "     subspan\n",
    "where remote_span.type = 'synthetic.task.worker'\n",
    "  and submit_span.type = 'synthetic.task.submit'\n",
    "  and start_event.span_uuid = remote_span.uuid\n",
    "  and start_event.type = 'end'\n",
    "  and end_event.span_uuid = submit_span.uuid\n",
    "  and end_event.type = 'result_retrieved'\n",
    "  and subspan.superspan_uuid = submit_span.uuid\n",
    "  and subspan.subspan_uuid = remote_span.uuid\n",
    "\"\"\"\n",
    "rows = list(c.execute(sql))\n",
    "print(len(rows))\n",
    "print(rows[0])\n",
    "durations = [r[0] for r in rows]\n",
    "\n",
    "plt.hist(durations, bins=100)\n",
    "plt.xlabel(\"duration / seconds\")\n",
    "plt.show()"
   ]
  },
  {
   "cell_type": "code",
   "execution_count": 32,
   "id": "b39375fa",
   "metadata": {},
   "outputs": [],
   "source": [
    "# I suspect that this is happening with the early tasks, and I could\n",
    "# plot that as a scatter of the two variables, rather than a histogram\n",
    "# of the difference.\n",
    "\n",
    "# so broadly the same SQL query as above, but returning the two values\n",
    "# to use as coordinates, rather than collapsing them into a single value\n",
    "# using minus."
   ]
  },
  {
   "cell_type": "code",
   "execution_count": 33,
   "id": "eec9dfec",
   "metadata": {},
   "outputs": [
    {
     "name": "stdout",
     "output_type": "stream",
     "text": [
      "100\n",
      "('1658834417.57488', '1658834417.75047')\n"
     ]
    },
    {
     "data": {
      "image/png": "[encoded data removed]",
      "text/plain": [
       "<Figure size 432x288 with 1 Axes>"
      ]
     },
     "metadata": {
      "needs_background": "light"
     },
     "output_type": "display_data"
    }
   ],
   "source": [
    "sql= \"\"\"\n",
    "select start_event.time, end_event.time\n",
    "from span as submit_span,\n",
    "     span as remote_span,\n",
    "     event as start_event,\n",
    "     event as end_event,\n",
    "     subspan\n",
    "where remote_span.type = 'synthetic.task.worker'\n",
    "  and submit_span.type = 'synthetic.task.submit'\n",
    "  and start_event.span_uuid = remote_span.uuid\n",
    "  and start_event.type = 'end'\n",
    "  and end_event.span_uuid = submit_span.uuid\n",
    "  and end_event.type = 'result_retrieved'\n",
    "  and subspan.superspan_uuid = submit_span.uuid\n",
    "  and subspan.subspan_uuid = remote_span.uuid\n",
    "\"\"\"\n",
    "rows = list(c.execute(sql))\n",
    "print(len(rows))\n",
    "print(rows[0])\n",
    "\n",
    "x = [float(r[0]) for r in rows]\n",
    "x_min = min(x)\n",
    "x = [v - x_min for v in x]\n",
    "y = [float(r[1]) - float(r[0]) for r in rows]\n",
    "\n",
    "\n",
    "plt.ylabel(\"time from worker completion to submit side completion/ seconds\")\n",
    "plt.xlabel(\"completion time on worker / seconds after start\")\n",
    "\n",
    "plt.scatter(x=x, y=y)\n",
    "plt.show()"
   ]
  },
  {
   "cell_type": "code",
   "execution_count": 36,
   "id": "c5d748ab",
   "metadata": {},
   "outputs": [],
   "source": [
    "# can we construct a tasks-in-each-state plot?\n",
    "# which gives something with a feeling a bit like \"queue length\" but constructed from event data, rather than\n",
    "# from asking particular data structures across the system what their queue length is - so it can capture\n",
    "# unsubmitted tasks and completed tasks that don't live in a \"queue\" as such, as well as capturing overhead\n",
    "# around real queues.\n",
    "\n",
    "# in my other prototype, `plot_context_streamgraph` did this, with a bunch of processing to collect\n",
    "# sub-events etc\n",
    "\n",
    "# This graph is also what I then amended with span weight to give better visualisation of resource usage\n",
    "# under work queue resource usage - when there is one dominant resource quantity (memory in the DESC case).\n",
    "# Although you could plot a bunch of graphs, one for each, and see what's getting saturated."
   ]
  },
  {
   "cell_type": "code",
   "execution_count": 37,
   "id": "1f661786",
   "metadata": {},
   "outputs": [
    {
     "data": {
      "text/plain": [
       "'\\nfields @timestamp, @message\\n| sort @timestamp desc\\n| filter log_processed.task_group_id = \"700a129f-0480-481b-b965-5c303bb16907\"  # doesn\\'t work\\n| limit 10000\\n'"
      ]
     },
     "execution_count": 37,
     "metadata": {},
     "output_type": "execute_result"
    }
   ],
   "source": [
    "# There's also some monitoring data available inside cloudwatch and in the relevant endpoint, in various\n",
    "# (potentially awkward to extract) forms.\n",
    "\n",
    "# From cloudwatch, we can get similar views without client side participation - for example, if there was a\n",
    "# cloud-hosted presentation of a user's tasks. This might look similar to the above data, or might expose\n",
    "# some performance problems in the whole stack.\n",
    "\n",
    "# From the endpoint (which a third party, neither the user or funcX, might be running) we can get some\n",
    "# task and worker utilisations, but without so much user side knowledge of how they were invoked and\n",
    "# what they were.\n",
    "\n",
    "# From cloudwatch, as well as tasks, we can also get some data about the endpoints\n",
    "\n",
    "# for example, a CloudWatch query like this:\n",
    "\"\"\"\n",
    "fields @timestamp, @message\n",
    "| sort @timestamp desc\n",
    "| filter log_processed.task_group_id = \"700a129f-0480-481b-b965-5c303bb16907\"  # doesn't work\n",
    "| limit 10000\n",
    "\"\"\"\n",
    "# can be imported - it takes 230 seconds to run over the last 3 weeks of data, giving 400 rows - so 4 rows\n",
    "# per task."
   ]
  },
  {
   "cell_type": "code",
   "execution_count": null,
   "id": "d807189f",
   "metadata": {},
   "outputs": [],
   "source": []
  }
 ],
 "metadata": {
  "kernelspec": {
   "display_name": "Python 3",
   "language": "python",
   "name": "python3"
  },
  "language_info": {
   "codemirror_mode": {
    "name": "ipython",
    "version": 3
   },
   "file_extension": ".py",
   "mimetype": "text/x-python",
   "name": "python",
   "nbconvert_exporter": "python",
   "pygments_lexer": "ipython3",
   "version": "3.9.2"
  }
 },
 "nbformat": 4,
 "nbformat_minor": 5
}
