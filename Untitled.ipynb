{
 "cells": [
  {
   "cell_type": "markdown",
   "id": "1db58aed",
   "metadata": {},
   "source": [
    "# Multi-component performance monitoring with dnpc\n",
    "\n",
    "This notebook should show some examples of querying a dnpc database, when various things have been imported to it."
   ]
  },
  {
   "cell_type": "code",
   "execution_count": 1,
   "id": "025f1d45",
   "metadata": {},
   "outputs": [],
   "source": [
    "import matplotlib.pyplot as plt\n",
    "import sqlite3"
   ]
  },
  {
   "cell_type": "markdown",
   "id": "5ab84475",
   "metadata": {},
   "source": [
    "## parsl monitoring.db\n",
    "\n",
    "This section shows queries using only imports from parsl's `monitoring.db` - in my case, using the results of running the `pytest` test suite using Work Queue.\n",
    "\n",
    "The code is a mix between Python and SQL. This notebook does not shy away from using features of either."
   ]
  },
  {
   "cell_type": "code",
   "execution_count": 2,
   "id": "03796649",
   "metadata": {},
   "outputs": [],
   "source": [
    "db = sqlite3.connect(\"dnpc.sqlite3\")"
   ]
  },
  {
   "cell_type": "code",
   "execution_count": 3,
   "id": "be9c69d1",
   "metadata": {},
   "outputs": [],
   "source": [
    "c = db.cursor()"
   ]
  },
  {
   "cell_type": "code",
   "execution_count": 4,
   "id": "c99bb381",
   "metadata": {},
   "outputs": [
    {
     "name": "stdout",
     "output_type": "stream",
     "text": [
      "(9,)\n"
     ]
    }
   ],
   "source": [
    "# How many parsl workflows does this database know about?\n",
    "# We can ask how many *spans* have the parsl.workflow type:\n",
    "\n",
    "for row in c.execute(\"SELECT COUNT(*) FROM span WHERE span.type = 'parsl.workflow'\"):\n",
    "    print(row)"
   ]
  },
  {
   "cell_type": "code",
   "execution_count": 5,
   "id": "bb7bc6e9",
   "metadata": {},
   "outputs": [
    {
     "name": "stdout",
     "output_type": "stream",
     "text": [
      "(2090,)\n",
      "(2494,)\n"
     ]
    }
   ],
   "source": [
    "# and similarly we can ask how many parsl tasks and tries this database knows about:\n",
    "\n",
    "\n",
    "for row in c.execute(\"SELECT COUNT(*) FROM span WHERE span.type = 'parsl.task'\"):\n",
    "    print(row)\n",
    "    \n",
    "    \n",
    "for row in c.execute(\"SELECT COUNT(*) FROM span WHERE span.type = 'parsl.try'\"):\n",
    "    print(row)"
   ]
  },
  {
   "cell_type": "code",
   "execution_count": 6,
   "id": "c35809c2",
   "metadata": {},
   "outputs": [
    {
     "name": "stdout",
     "output_type": "stream",
     "text": [
      "('parsl.task', 2090)\n",
      "('parsl.try', 2494)\n",
      "('parsl.workflow', 9)\n",
      "('synthetic.task.submit', 100)\n",
      "('synthetic.task.worker', 100)\n",
      "('workqueue.task', 227)\n"
     ]
    }
   ],
   "source": [
    "# or even ask for a summary of each span type - with just the parsl monitoring database imported,\n",
    "# this should just show parsl.workflow, .task and .try, but as other \"modules\" are imported, then\n",
    "# more span types should appear here.\n",
    "for row in c.execute(\"SELECT type, COUNT(type) FROM span GROUP BY type\"):\n",
    "    print(row)\n"
   ]
  },
  {
   "cell_type": "code",
   "execution_count": 7,
   "id": "d8a13143",
   "metadata": {},
   "outputs": [
    {
     "data": {
      "image/png": "[encoded data removed]",
      "text/plain": [
       "<Figure size 432x288 with 1 Axes>"
      ]
     },
     "metadata": {
      "needs_background": "light"
     },
     "output_type": "display_data"
    }
   ],
   "source": [
    "# testing matplotlib in a notebook:\n",
    "\n",
    "plt.plot([[0,0],[1,1]])\n",
    "plt.show()"
   ]
  },
  {
   "cell_type": "code",
   "execution_count": null,
   "id": "2065e2a8",
   "metadata": {},
   "outputs": [],
   "source": []
  },
  {
   "cell_type": "code",
   "execution_count": 8,
   "id": "5e86c2d1",
   "metadata": {},
   "outputs": [
    {
     "name": "stdout",
     "output_type": "stream",
     "text": [
      "2088\n",
      "0.00034999847412109375\n"
     ]
    }
   ],
   "source": [
    "# here's a bigger SQL statement that will return a list of all task durations\n",
    "\n",
    "sql= \"\"\"\n",
    "select end_event.time - start_event.time as duration\n",
    "from span, event as start_event, event as end_event\n",
    "where span.type='parsl.task'\n",
    "and start_event.span_uuid = span.uuid and start_event.type = 'invoked'\n",
    "and end_event.span_uuid = span.uuid and end_event.type = 'returned'\n",
    "order by duration;\"\"\"\n",
    "rows = list(c.execute(sql))\n",
    "print(len(rows))\n",
    "\n",
    "# rows is a list of one-element tuple (time,)\n",
    "# so extract that single value \n",
    "rows = [r[0] for r in rows]\n",
    "print(rows[0])\n"
   ]
  },
  {
   "cell_type": "code",
   "execution_count": 9,
   "id": "388fb470",
   "metadata": {},
   "outputs": [
    {
     "data": {
      "image/png": "[encoded data removed]",
      "text/plain": [
       "<Figure size 432x288 with 1 Axes>"
      ]
     },
     "metadata": {
      "needs_background": "light"
     },
     "output_type": "display_data"
    }
   ],
   "source": [
    "# we can plot these durations as a histogram\n",
    "plt.hist(rows)\n",
    "plt.show()"
   ]
  },
  {
   "cell_type": "code",
   "execution_count": 10,
   "id": "363f7fb7",
   "metadata": {},
   "outputs": [
    {
     "name": "stdout",
     "output_type": "stream",
     "text": [
      "9\n",
      "3109938.6154174805\n"
     ]
    },
    {
     "data": {
      "image/png": "[encoded data removed]",
      "text/plain": [
       "<Figure size 432x288 with 1 Axes>"
      ]
     },
     "metadata": {
      "needs_background": "light"
     },
     "output_type": "display_data"
    }
   ],
   "source": [
    "# we should be able to do the same with workflow durations, using a similar SQL+python combination\n",
    "# which I hardcode here, but which I hope leads to something factorisable:\n",
    "\n",
    "sql= \"\"\"\n",
    "select end_event.time - start_event.time as duration\n",
    "from span, event as start_event, event as end_event\n",
    "where span.type='parsl.workflow'\n",
    "and start_event.span_uuid = span.uuid and start_event.type = 'began'\n",
    "and end_event.span_uuid = span.uuid and end_event.type = 'completed'\n",
    "order by duration;\"\"\"\n",
    "rows = list(c.execute(sql))\n",
    "print(len(rows))\n",
    "\n",
    "# rows is a list of one-element tuple (days,)\n",
    "# so extract that single value and rescale to seconds\n",
    "rows = [r[0] * 24 * 60 * 60 for r in rows]\n",
    "print(rows[0])\n",
    "plt.hist(rows)\n",
    "plt.show()"
   ]
  },
  {
   "cell_type": "code",
   "execution_count": 11,
   "id": "df079a91",
   "metadata": {},
   "outputs": [
    {
     "name": "stdout",
     "output_type": "stream",
     "text": [
      "('9998ac21-9317-42af-a359-0a7f35151a63',)\n",
      "9998ac21-9317-42af-a359-0a7f35151a63\n"
     ]
    }
   ],
   "source": [
    "# now i'd like to do stuff with just the most recent workflow\n",
    "\n",
    "# so discover the top level span ID for the most recently started workflow:\n",
    "\n",
    "sql=\"\"\"\n",
    "select span.uuid\n",
    "from span, event\n",
    "where span.type = 'parsl.workflow'\n",
    "and event.span_uuid = span.uuid\n",
    "and event.type = 'began'\n",
    "order by event.time desc\n",
    "limit 1\n",
    "\"\"\"\n",
    "\n",
    "rows = list(c.execute(sql))\n",
    "for row in rows:\n",
    "    print(row)\n",
    "latest_workflow_span_uuid = row[0]\n",
    "print(latest_workflow_span_uuid)"
   ]
  },
  {
   "cell_type": "code",
   "execution_count": 12,
   "id": "8e847380",
   "metadata": {},
   "outputs": [
    {
     "name": "stdout",
     "output_type": "stream",
     "text": [
      "260\n"
     ]
    }
   ],
   "source": [
    "# how many tasks are in this workflow?\n",
    "sql=\"\"\"\n",
    "select task_span.uuid\n",
    "from span as task_span,\n",
    "     subspan\n",
    "where subspan.superspan_uuid = ?\n",
    "and subspan.subspan_uuid = task_span.uuid\n",
    "\"\"\"\n",
    "rows = list(c.execute(sql, (latest_workflow_span_uuid,)))\n",
    "print(len(rows))"
   ]
  },
  {
   "cell_type": "code",
   "execution_count": 13,
   "id": "1933fa4a",
   "metadata": {},
   "outputs": [
    {
     "data": {
      "image/png": "[encoded data removed]",
      "text/plain": [
       "<Figure size 432x288 with 1 Axes>"
      ]
     },
     "metadata": {
      "needs_background": "light"
     },
     "output_type": "display_data"
    }
   ],
   "source": [
    "# For this one workflow, let's plot the start and end times for each task in something a bit like a Gantt chart\n",
    "# For tasks, this usually looks good for toy workflows but fairly meaningless for workflows at scale.\n",
    "# but the technique can probably look good for other low-cardinality spans (eg perhaps visualising blocks)\n",
    "\n",
    "# credit: https://towardsdatascience.com/gantt-charts-with-pythons-matplotlib-395b7af72d72\n",
    "\n",
    "# First, testing out how to use the `barh` plot:\n",
    "\n",
    "plt.barh([\"a\",\"b\",\"c\"], width=[5,6,7], left=[0,-0.5,1], color=[\"#FF0000\",\"#00FF00\",\"#0000FF\"])\n",
    "plt.show()"
   ]
  },
  {
   "cell_type": "code",
   "execution_count": 14,
   "id": "625e7029",
   "metadata": {},
   "outputs": [
    {
     "name": "stdout",
     "output_type": "stream",
     "text": [
      "260\n",
      "('1657029752.8876', 1.7935400009155273)\n",
      "('1657029926.99919', 1.5642399787902832)\n",
      "1657029752.8876\n",
      "1657029752.8876\n",
      "1.7935400009155273\n",
      "1.5642399787902832\n"
     ]
    }
   ],
   "source": [
    "# so lets make a structure with task durations - which I did earlier, but now want to restrict to the latest\n",
    "# workflow\n",
    "\n",
    "sql= \"\"\"\n",
    "select start_event.time, end_event.time - start_event.time as duration\n",
    "from span, event as start_event, event as end_event, subspan\n",
    "where span.type='parsl.task'\n",
    "and span.uuid = subspan.subspan_uuid and subspan.superspan_uuid = ?\n",
    "and start_event.span_uuid = span.uuid and start_event.type = 'invoked'\n",
    "and end_event.span_uuid = span.uuid and end_event.type = 'returned'\n",
    "order by start_event.time;\"\"\"\n",
    "rows = list(c.execute(sql, (latest_workflow_span_uuid,)))\n",
    "print(len(rows))\n",
    "print(rows[0])\n",
    "print(rows[-1])\n",
    "# rows is a list of one-element tuple (days,)\n",
    "# so extract that single value\n",
    "start_rows = [float(r[0]) for r in rows]\n",
    "print(start_rows[0])\n",
    "\n",
    "min_start = min(start_rows)\n",
    "print(min_start)\n",
    "\n",
    "start_rows = [r - min_start for r in start_rows]\n",
    "\n",
    "duration_rows = [float(r[1]) for r in rows]\n",
    "print(duration_rows[0])\n",
    "print(duration_rows[-1])\n",
    "\n"
   ]
  },
  {
   "cell_type": "code",
   "execution_count": 15,
   "id": "e657423b",
   "metadata": {},
   "outputs": [
    {
     "data": {
      "image/png": "[encoded data removed]",
      "text/plain": [
       "<Figure size 432x288 with 1 Axes>"
      ]
     },
     "metadata": {
      "needs_background": "light"
     },
     "output_type": "display_data"
    }
   ],
   "source": [
    "# now make a horizontal plot of this\n",
    "plt.barh(range(0,len(duration_rows)), width=duration_rows, left=start_rows)\n",
    "plt.show()"
   ]
  },
  {
   "cell_type": "markdown",
   "id": "649b5238",
   "metadata": {},
   "source": [
    "## Work Queue\n",
    "\n",
    "Everything so far has worked with data from a single source - the parsl monitoring database. So everything I've queried above could have been queried (in a more native fashion) from that sqlite3 database instead.\n",
    "\n",
    "But the purpose of this work is to intergrate several data sources - some of which aren't in such an easy to query format.\n",
    "\n",
    "The above test (hopefully) was run with the WorkQueueExecutor, which means there should be some log files around from work queue with some nice timing information.\n",
    "\n",
    "First lets ask some questions just involving work queue tasks.\n",
    "\n",
    "This data is imported from work queue `transaction_log` files. There are several potential span types in that log file, but for now I'll concentrate on importing `TASK` entry times.\n",
    "\n",
    "Other analysis that I have done in other projects pulled in additional metadata here (memory usage) specifically for working out resource usage in the complicated-to-visualise tiling model of work queue workers. That is not precluded here - additional metadata can be added in arbitrary other tables and joined too. There is no prohibition on adding tables. Perhaps I can get that working here too - it looks nice with DESC where the number of tasks running at once varies a lot but the actual resource allocation is high and constant."
   ]
  },
  {
   "cell_type": "code",
   "execution_count": 16,
   "id": "a15582f3",
   "metadata": {},
   "outputs": [],
   "source": [
    "# work queue doesn't have some in-log-file identifier so we can't (at the moment) import by naming a particular\n",
    "# collection of work queue tasks that all came from the same log file. (though we could represent a particular\n",
    "# log file as a span containing workqueue.task spans...)\n",
    "\n"
   ]
  },
  {
   "cell_type": "code",
   "execution_count": 17,
   "id": "017b71b2",
   "metadata": {},
   "outputs": [
    {
     "name": "stdout",
     "output_type": "stream",
     "text": [
      "227\n",
      "0.5213398933410645\n"
     ]
    },
    {
     "data": {
      "image/png": "[encoded data removed]",
      "text/plain": [
       "<Figure size 432x288 with 1 Axes>"
      ]
     },
     "metadata": {
      "needs_background": "light"
     },
     "output_type": "display_data"
    }
   ],
   "source": [
    "# lets get a histogram of task durations, using the same duration code as before, but using workqueue.task spans\n",
    "# as data source.\n",
    "\n",
    "# What's changed? the span type is `workqueue.task` instead of `parsl.task` and the start/end event names are\n",
    "# different - reflecting Work Queue's choice of event name.\n",
    "\n",
    "# The time format is also different here. That is something that should be normalised in the database though\n",
    "# so that time fields of arbitrary events make sense together.\n",
    "\n",
    "sql= \"\"\"\n",
    "select end_event.time - start_event.time as duration\n",
    "from span, event as start_event, event as end_event\n",
    "where span.type='workqueue.task'\n",
    "and start_event.span_uuid = span.uuid and start_event.type = 'RUNNING'\n",
    "and end_event.span_uuid = span.uuid and end_event.type = 'DONE'\n",
    "order by duration;\"\"\"\n",
    "rows = list(c.execute(sql))\n",
    "print(len(rows))\n",
    "\n",
    "# rows is a list of one-element tuple (days,)\n",
    "# so extract that single value and rescale to seconds\n",
    "rows = [r[0] for r in rows]\n",
    "print(rows[0])\n",
    "\n",
    "plt.hist(rows, bins=100)\n",
    "plt.show()\n"
   ]
  },
  {
   "cell_type": "markdown",
   "id": "4bb74bac",
   "metadata": {},
   "source": [
    "## Integrating Parsl and Work Queue"
   ]
  },
  {
   "cell_type": "markdown",
   "id": "9c720692",
   "metadata": {},
   "source": [
    "so we can do similar queries against data from different sources, because they're fitting into the same schema.\n",
    "\n",
    "I'd like to use these two data sources, parsl and work queue, together to answer questions.\n",
    "\n",
    "One thing that I've investigated a few times with DESC is, when several components have a start event and all the different components start events for a task should happen \"at the same time\", then some performance problems caused by different components startup overhead can be revealed by looking at the differences in these start times.\n",
    "\n",
    "For example, can we compare every parsl.try `running` event to the corresponding workqueue.task `RUNNING` and check that the difference is always around 0? and see how different from 0 it actually is. (another use for a histogram)\n",
    "\n",
    "To do that, we need to be able to match up a `parsl.try` span and its corresponding `workqueue.task` span."
   ]
  },
  {
   "cell_type": "code",
   "execution_count": 18,
   "id": "9219e122",
   "metadata": {},
   "outputs": [
    {
     "name": "stdout",
     "output_type": "stream",
     "text": [
      "227\n",
      "('1657029690.27911', '1657029690.88264', 0.6035299301147461)\n",
      "0.6035299301147461\n"
     ]
    }
   ],
   "source": [
    "#sql= \"\"\"\n",
    "#select end_event.time - start_event.time as duration\n",
    "#from span as wq_span, event as start_event, event as end_event\n",
    "#where wq_span.type='workqueue.task'\n",
    "#and start_event.span_uuid = wq_span.uuid and start_event.type = 'RUNNING'\n",
    "#and end_event.span_uuid = wq_span.uuid and end_event.type = 'DONE'\n",
    "#order by duration;\"\"\"\n",
    "sql= \"\"\"\n",
    "select wq_start_event.time as wq_start,\n",
    "       try_start_event.time as try_start,\n",
    "       try_start_event.time - wq_start_event.time\n",
    "\n",
    "  from span as wq_span,\n",
    "       event as wq_start_event,\n",
    "       span as try_span,\n",
    "       event as try_start_event,\n",
    "       subspan\n",
    "\n",
    " where wq_span.type='workqueue.task'\n",
    "   and wq_start_event.span_uuid = wq_span.uuid\n",
    "   and wq_start_event.type = 'RUNNING'\n",
    "\n",
    "   and try_span.type='parsl.try'\n",
    "   and try_start_event.span_uuid = try_span.uuid\n",
    "   and try_start_event.type = 'running'\n",
    "   \n",
    "   and subspan.superspan_uuid = try_span.uuid\n",
    "   and subspan.subspan_uuid = wq_span.uuid\n",
    ";\"\"\"\n",
    "rows = list(c.execute(sql))\n",
    "print(len(rows))\n",
    "print(rows[0])\n",
    "\n",
    "durations = [r[2] for r in rows]\n",
    "print(durations[0])"
   ]
  },
  {
   "cell_type": "code",
   "execution_count": 19,
   "id": "c38c3622",
   "metadata": {},
   "outputs": [
    {
     "data": {
      "image/png": "[encoded data removed]",
      "text/plain": [
       "<Figure size 432x288 with 1 Axes>"
      ]
     },
     "metadata": {
      "needs_background": "light"
     },
     "output_type": "display_data"
    }
   ],
   "source": [
    "plt.hist(durations)\n",
    "plt.show()"
   ]
  },
  {
   "cell_type": "markdown",
   "id": "c14198a7",
   "metadata": {},
   "source": [
    "So we can see here there is a measurable difference in start time from when Work Queue says it is starting\n",
    "to run a task, to when the wrapper inside parsl says its about to run a task.\n",
    "OK for 1 hour jobs, not ok for 1ms jobs.\n",
    "On HPC systems with eg much more sluggish python startup over shared fs, this can be much longer than a fraction of a second."
   ]
  },
  {
   "cell_type": "markdown",
   "id": "73d770d4",
   "metadata": {},
   "source": [
    "## funcX, without any parsl"
   ]
  },
  {
   "cell_type": "markdown",
   "id": "5a285259",
   "metadata": {},
   "source": [
    "funcX is not built for being monitored.\n",
    "\n",
    "There are three broad sources of data that a user might have access to.\n",
    "\n",
    "i) on their submit side, they might record their own timing information (or turn on logging for the funcX submitting code), giving them some data in a log file or database\n",
    "\n",
    "ii) the relevant funcX endpoint(s) know about task execution and if correctly configured will log out a lot of data\n",
    "\n",
    "iii) the centrally hosted services know about every task and log some information to cloudwatch\n",
    "\n",
    "Any given monitoring user will have access to one of the seven possible non-empty subsets of this information, and it would be useful to be able to make whichever analyses are possible in all seven situations - there should be \"graceful degradation\" of monitoring power."
   ]
  },
  {
   "cell_type": "code",
   "execution_count": 20,
   "id": "9898d6eb",
   "metadata": {},
   "outputs": [],
   "source": [
    "# so to begin with, as a submitter, without any access either to endpoint or central service logs, what\n",
    "# sort of information can I see?\n",
    "\n",
    "# Here are two sources:\n",
    "# i) I can collect timings of submitting tasks and collecting results\n",
    "# ii) I can collect timings inside my remote task, and return those timings as part of the result.\n",
    "\n",
    "# I can then import those into the database, and make similar looking queries against them.\n",
    "\n",
    "# This notebook does not show the import, but assumes by this stage an import has been done\n",
    "\n",
    "# This data can exist alongside the above parsl/work queue related data in the same database.\n",
    "# The records do not conflict.\n",
    "\n",
    "# This is an example of higher-level application specific monitoring data: the component we are using (funcx)\n",
    "# doesn't really know what's being monitored, and there isn't any particularly live monitoring system at the\n",
    "# time of execution, beyond a few log statements.\n",
    "# So there (necessarily?) is a custom importer, reflecting that the code to record the monitoring info is custom."
   ]
  },
  {
   "cell_type": "code",
   "execution_count": 21,
   "id": "a5fb4575",
   "metadata": {},
   "outputs": [],
   "source": [
    "# first, with the internal task timings around a sleep statement, we should expect the remote task execution\n",
    "# inside the python app to be very tight around the delay time\n",
    "# and hopefully a histogram of that will reflect that\n",
    "\n"
   ]
  },
  {
   "cell_type": "code",
   "execution_count": 22,
   "id": "0a693705",
   "metadata": {},
   "outputs": [
    {
     "name": "stdout",
     "output_type": "stream",
     "text": [
      "100\n",
      "('6a13e582-0c0a-4359-9ecd-1223fce264e2', '1657212870.13918', '1657212871.54062', 1.401440143585205)\n"
     ]
    }
   ],
   "source": [
    "sql= \"\"\"\n",
    "select start_event.time as start,\n",
    "       end_event.time as end,\n",
    "       end_event.time - start_event.time\n",
    "\n",
    "  from span,\n",
    "       event as start_event,\n",
    "       event as end_event\n",
    "\n",
    " where span.type='synthetic.task.worker'\n",
    "\n",
    "   and start_event.span_uuid = span.uuid\n",
    "   and start_event.type = 'start'\n",
    "\n",
    "   and end_event.span_uuid = span.uuid\n",
    "   and end_event.type = 'end'\n",
    ";\"\"\"\n",
    "\n",
    "sql= \"\"\"\n",
    "select span.uuid, start_event.time, end_event.time, end_event.time - start_event.time\n",
    "from span, \n",
    "     event as start_event,\n",
    "     event as end_event\n",
    "where span.type = 'synthetic.task.worker'\n",
    "  and start_event.span_uuid = span.uuid\n",
    "  and start_event.type = 'start'\n",
    "  and end_event.span_uuid = span.uuid\n",
    "  and end_event.type <> 'start'\n",
    "\n",
    "\"\"\"\n",
    "rows = list(c.execute(sql))\n",
    "print(len(rows))\n",
    "print(rows[0])\n"
   ]
  },
  {
   "cell_type": "code",
   "execution_count": 23,
   "id": "660a5387",
   "metadata": {},
   "outputs": [
    {
     "data": {
      "image/png": "[encoded data removed]",
      "text/plain": [
       "<Figure size 432x288 with 1 Axes>"
      ]
     },
     "metadata": {
      "needs_background": "light"
     },
     "output_type": "display_data"
    }
   ],
   "source": [
    "durations = [r[3] for r in rows]\n",
    "\n",
    "plt.hist(durations)\n",
    "plt.xlabel(\"duration / seconds\")\n",
    "plt.show()"
   ]
  },
  {
   "cell_type": "code",
   "execution_count": 24,
   "id": "9acef9ea",
   "metadata": {},
   "outputs": [],
   "source": [
    "# hopefully the above histogram looks nice and tight\n",
    "# in my test dataset, mostly less than 0.0015 additional timing "
   ]
  },
  {
   "cell_type": "code",
   "execution_count": 25,
   "id": "ee558a31",
   "metadata": {},
   "outputs": [],
   "source": [
    "# that was using just the two timings we collected for task running on the remote site\n",
    "# and perhaps it would be useful for understanding that our remote task really is\n",
    "# behaving as we expect.\n",
    "\n",
    "# we can make a similar end-time to end-time histogram as before using additional data collected\n",
    "# by the synthetic code:\n",
    "# in this case, with an additional event that records a different facet of the same task:\n",
    "# when was it submitted to funcx and when did we finish processing the result?\n",
    "\n",
    "# for funcx, I expect that time gap to be very small: funcx with the executor interface is meant to\n",
    "# be fast at getting results back to the client.\n",
    "\n",
    "# there's a new span type that I've made - synthetic.task.submit - which stores events for each task\n",
    "# as far as the submitting \"synthetic workflow\" code is concerned."
   ]
  },
  {
   "cell_type": "code",
   "execution_count": 26,
   "id": "3477406d",
   "metadata": {},
   "outputs": [
    {
     "name": "stdout",
     "output_type": "stream",
     "text": [
      "100\n",
      "('dc8625c3-c565-4493-8e9a-8865c30a25c0', '1657212868.58229', '1657212873.26857', 4.686280012130737)\n"
     ]
    },
    {
     "data": {
      "image/png": "[encoded data removed]",
      "text/plain": [
       "<Figure size 432x288 with 1 Axes>"
      ]
     },
     "metadata": {
      "needs_background": "light"
     },
     "output_type": "display_data"
    }
   ],
   "source": [
    "\n",
    "sql= \"\"\"\n",
    "select span.uuid, start_event.time, end_event.time, end_event.time - start_event.time\n",
    "from span, \n",
    "     event as start_event,\n",
    "     event as end_event\n",
    "where span.type = 'synthetic.task.submit'\n",
    "  and start_event.span_uuid = span.uuid\n",
    "  and start_event.type = 'submit'\n",
    "  and end_event.span_uuid = span.uuid\n",
    "  and end_event.type = 'result_retrieved'\n",
    "\n",
    "\"\"\"\n",
    "rows = list(c.execute(sql))\n",
    "print(len(rows))\n",
    "print(rows[0])\n",
    "durations = [r[3] for r in rows]\n",
    "\n",
    "plt.hist(durations)\n",
    "plt.xlabel(\"duration / seconds\")\n",
    "plt.show()"
   ]
  },
  {
   "cell_type": "code",
   "execution_count": 27,
   "id": "e068b1e6",
   "metadata": {},
   "outputs": [],
   "source": [
    "# in this output we get a nice rectangular block - that comes from all tasks being submitted almost all at once,\n",
    "# and then each queueing for a while to get a worker, over the next 2 minutes.\n",
    "# Where the count is not quite even, that is some ground for suspicion about what is happening.\n",
    "\n",
    "# If we run with more bins, we can see there is a spike of tasks all completing around the same very short time:\n"
   ]
  },
  {
   "cell_type": "code",
   "execution_count": 28,
   "id": "c1e205f0",
   "metadata": {},
   "outputs": [
    {
     "data": {
      "image/png": "[encoded data removed]",
      "text/plain": [
       "<Figure size 432x288 with 1 Axes>"
      ]
     },
     "metadata": {
      "needs_background": "light"
     },
     "output_type": "display_data"
    }
   ],
   "source": [
    "\n",
    "plt.hist(durations, bins=100)\n",
    "plt.xlabel(\"duration / seconds\")\n",
    "plt.show()"
   ]
  },
  {
   "cell_type": "code",
   "execution_count": 29,
   "id": "01fea2c4",
   "metadata": {},
   "outputs": [],
   "source": [
    "# That's probably because we don't checking for results until everything has been submitted - so a bunch of\n",
    "# could complete in this time?"
   ]
  },
  {
   "cell_type": "code",
   "execution_count": 30,
   "id": "00f16222",
   "metadata": {},
   "outputs": [],
   "source": [
    "# let's see what the time difference looks like between the worker side ending and the result being processed\n",
    "# on the submit side.\n",
    "\n",
    "# to do that, we need to join the two spans together somehow.\n",
    "\n",
    "# in the log file, we have a task number for both types of span, so we can use that to create a link between\n",
    "# the two in the database.\n",
    "\n",
    "# there's a sort of natural hierarchy here: the remote execution could be regarded as \"inside\" the submit side\n",
    "# code. if we're going to believe that argument, the the remote span should be a subspan of the submit span.\n",
    "# and the importer should be made to represent that in the `subspan` table."
   ]
  },
  {
   "cell_type": "code",
   "execution_count": 33,
   "id": "2ae27634",
   "metadata": {},
   "outputs": [
    {
     "name": "stdout",
     "output_type": "stream",
     "text": [
      "100\n",
      "(1.727949857711792,)\n"
     ]
    },
    {
     "data": {
      "image/png": "[encoded data removed]",
      "text/plain": [
       "<Figure size 432x288 with 1 Axes>"
      ]
     },
     "metadata": {
      "needs_background": "light"
     },
     "output_type": "display_data"
    }
   ],
   "source": [
    "sql= \"\"\"\n",
    "select end_event.time - start_event.time\n",
    "from span as submit_span,\n",
    "     span as remote_span,\n",
    "     event as start_event,\n",
    "     event as end_event,\n",
    "     subspan\n",
    "where remote_span.type = 'synthetic.task.worker'\n",
    "  and submit_span.type = 'synthetic.task.submit'\n",
    "  and start_event.span_uuid = remote_span.uuid\n",
    "  and start_event.type = 'end'\n",
    "  and end_event.span_uuid = submit_span.uuid\n",
    "  and end_event.type = 'result_retrieved'\n",
    "  and subspan.superspan_uuid = submit_span.uuid\n",
    "  and subspan.subspan_uuid = remote_span.uuid\n",
    "\"\"\"\n",
    "rows = list(c.execute(sql))\n",
    "print(len(rows))\n",
    "print(rows[0])\n",
    "durations = [r[0] for r in rows]\n",
    "\n",
    "plt.hist(durations)\n",
    "plt.xlabel(\"duration / seconds\")\n",
    "plt.show()"
   ]
  },
  {
   "cell_type": "code",
   "execution_count": 34,
   "id": "71e2dc82",
   "metadata": {},
   "outputs": [],
   "source": [
    "# I suspect that this is happening with the early tasks, and I could\n",
    "# plot that as a scatter of the two variables, rather than a histogram\n",
    "# of the difference.\n",
    "\n",
    "# so broadly the same SQL query as above, but returning the two values\n",
    "# to use as coordinates, rather than collapsing them into a single value\n",
    "# using minus."
   ]
  },
  {
   "cell_type": "code",
   "execution_count": 52,
   "id": "935da250",
   "metadata": {},
   "outputs": [
    {
     "name": "stdout",
     "output_type": "stream",
     "text": [
      "100\n",
      "('1657212871.54062', '1657212873.26857')\n"
     ]
    },
    {
     "data": {
      "image/png": "[encoded data removed]",
      "text/plain": [
       "<Figure size 432x288 with 1 Axes>"
      ]
     },
     "metadata": {
      "needs_background": "light"
     },
     "output_type": "display_data"
    }
   ],
   "source": [
    "sql= \"\"\"\n",
    "select start_event.time, end_event.time\n",
    "from span as submit_span,\n",
    "     span as remote_span,\n",
    "     event as start_event,\n",
    "     event as end_event,\n",
    "     subspan\n",
    "where remote_span.type = 'synthetic.task.worker'\n",
    "  and submit_span.type = 'synthetic.task.submit'\n",
    "  and start_event.span_uuid = remote_span.uuid\n",
    "  and start_event.type = 'end'\n",
    "  and end_event.span_uuid = submit_span.uuid\n",
    "  and end_event.type = 'result_retrieved'\n",
    "  and subspan.superspan_uuid = submit_span.uuid\n",
    "  and subspan.subspan_uuid = remote_span.uuid\n",
    "\"\"\"\n",
    "rows = list(c.execute(sql))\n",
    "print(len(rows))\n",
    "print(rows[0])\n",
    "\n",
    "x = [float(r[0]) for r in rows]\n",
    "x_min = min(x)\n",
    "x = [v - x_min for v in x]\n",
    "y = [float(r[1]) - float(r[0]) for r in rows]\n",
    "\n",
    "\n",
    "plt.ylabel(\"time from worker completion to submit side completion/ seconds\")\n",
    "plt.xlabel(\"completion time on worker / seconds after start\")\n",
    "\n",
    "plt.scatter(x=x, y=y)\n",
    "plt.show()"
   ]
  },
  {
   "cell_type": "code",
   "execution_count": null,
   "id": "195c7de6",
   "metadata": {},
   "outputs": [],
   "source": []
  }
 ],
 "metadata": {
  "kernelspec": {
   "display_name": "Python 3",
   "language": "python",
   "name": "python3"
  },
  "language_info": {
   "codemirror_mode": {
    "name": "ipython",
    "version": 3
   },
   "file_extension": ".py",
   "mimetype": "text/x-python",
   "name": "python",
   "nbconvert_exporter": "python",
   "pygments_lexer": "ipython3",
   "version": "3.9.2"
  }
 },
 "nbformat": 4,
 "nbformat_minor": 5
}
