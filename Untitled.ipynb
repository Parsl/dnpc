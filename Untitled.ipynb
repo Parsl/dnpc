{
 "cells": [
  {
   "cell_type": "markdown",
   "id": "0bde2323",
   "metadata": {},
   "source": [
    "# Multi-component performance monitoring with dnpc\n",
    "\n",
    "This notebook should show some examples of querying a dnpc database, when various things have been imported to it."
   ]
  },
  {
   "cell_type": "code",
   "execution_count": 29,
   "id": "becdd227",
   "metadata": {},
   "outputs": [],
   "source": [
    "import matplotlib.pyplot as plt\n",
    "import sqlite3"
   ]
  },
  {
   "cell_type": "markdown",
   "id": "66b8551e",
   "metadata": {},
   "source": [
    "## parsl monitoring.db\n",
    "\n",
    "This section shows queries using only imports from parsl's `monitoring.db` - in my case, using the results of running the `pytest` test suite using Work Queue.\n",
    "\n",
    "The code is a mix between Python and SQL. This notebook does not shy away from using features of either."
   ]
  },
  {
   "cell_type": "code",
   "execution_count": 30,
   "id": "211644dc",
   "metadata": {},
   "outputs": [],
   "source": [
    "db = sqlite3.connect(\"dnpc.sqlite3\")"
   ]
  },
  {
   "cell_type": "code",
   "execution_count": 31,
   "id": "e1469d24",
   "metadata": {},
   "outputs": [],
   "source": [
    "c = db.cursor()"
   ]
  },
  {
   "cell_type": "code",
   "execution_count": 32,
   "id": "2ae000c8",
   "metadata": {},
   "outputs": [
    {
     "name": "stdout",
     "output_type": "stream",
     "text": [
      "(9,)\n"
     ]
    }
   ],
   "source": [
    "# How many parsl workflows does this database know about?\n",
    "# We can ask how many *spans* have the parsl.workflow type:\n",
    "\n",
    "for row in c.execute(\"SELECT COUNT(*) FROM span WHERE span.type = 'parsl.workflow'\"):\n",
    "    print(row)"
   ]
  },
  {
   "cell_type": "code",
   "execution_count": 33,
   "id": "9966cdd1",
   "metadata": {},
   "outputs": [
    {
     "name": "stdout",
     "output_type": "stream",
     "text": [
      "(2090,)\n",
      "(2494,)\n"
     ]
    }
   ],
   "source": [
    "# and similarly we can ask how many parsl tasks and tries this database knows about:\n",
    "\n",
    "\n",
    "for row in c.execute(\"SELECT COUNT(*) FROM span WHERE span.type = 'parsl.task'\"):\n",
    "    print(row)\n",
    "    \n",
    "    \n",
    "for row in c.execute(\"SELECT COUNT(*) FROM span WHERE span.type = 'parsl.try'\"):\n",
    "    print(row)"
   ]
  },
  {
   "cell_type": "code",
   "execution_count": 34,
   "id": "7ecf3a32",
   "metadata": {},
   "outputs": [
    {
     "name": "stdout",
     "output_type": "stream",
     "text": [
      "('parsl.task', 2090)\n",
      "('parsl.try', 2494)\n",
      "('parsl.workflow', 9)\n"
     ]
    }
   ],
   "source": [
    "# or even ask for a summary of each span type - with just the parsl monitoring database imported,\n",
    "# this should just show parsl.workflow, .task and .try, but as other \"modules\" are imported, then\n",
    "# more span types should appear here.\n",
    "for row in c.execute(\"SELECT type, COUNT(type) FROM span GROUP BY type\"):\n",
    "    print(row)\n"
   ]
  },
  {
   "cell_type": "code",
   "execution_count": null,
   "id": "159480bd",
   "metadata": {},
   "outputs": [],
   "source": []
  },
  {
   "cell_type": "code",
   "execution_count": 40,
   "id": "3b869f62",
   "metadata": {},
   "outputs": [
    {
     "data": {
      "image/png": "[encoded data removed]",
      "text/plain": [
       "<Figure size 432x288 with 1 Axes>"
      ]
     },
     "metadata": {
      "needs_background": "light"
     },
     "output_type": "display_data"
    }
   ],
   "source": [
    "# testing matplotlib in a notebook:\n",
    "\n",
    "plt.plot([[0,0],[1,1]])\n",
    "plt.show()"
   ]
  },
  {
   "cell_type": "code",
   "execution_count": 70,
   "id": "d838dd59",
   "metadata": {},
   "outputs": [
    {
     "name": "stdout",
     "output_type": "stream",
     "text": [
      "2088\n",
      "0.0\n"
     ]
    }
   ],
   "source": [
    "# here's a bigger SQL statement that will return a list of all task durations:\n",
    "\n",
    "sql= \"\"\"\n",
    "select julianday(end_event.time) - julianday(start_event.time) as duration\n",
    "from span, event as start_event, event as end_event\n",
    "where span.type='parsl.task'\n",
    "and start_event.span_uuid = span.uuid and start_event.type = 'invoked'\n",
    "and end_event.span_uuid = span.uuid and end_event.type = 'returned'\n",
    "order by duration;\"\"\"\n",
    "rows = list(c.execute(sql))\n",
    "print(len(rows))\n",
    "\n",
    "# rows is a list of one-element tuple (days,)\n",
    "# so extract that single value and rescale to seconds\n",
    "rows = [r[0] * 24 * 60 * 60 for r in rows]\n",
    "print(rows[0])\n"
   ]
  },
  {
   "cell_type": "code",
   "execution_count": 71,
   "id": "7926be71",
   "metadata": {},
   "outputs": [
    {
     "data": {
      "image/png": "[encoded data removed]",
      "text/plain": [
       "<Figure size 432x288 with 1 Axes>"
      ]
     },
     "metadata": {
      "needs_background": "light"
     },
     "output_type": "display_data"
    }
   ],
   "source": [
    "plt.hist(rows)\n",
    "plt.show()"
   ]
  },
  {
   "cell_type": "code",
   "execution_count": 74,
   "id": "abd53069",
   "metadata": {},
   "outputs": [
    {
     "name": "stdout",
     "output_type": "stream",
     "text": [
      "9\n",
      "35.99497675895691\n"
     ]
    },
    {
     "data": {
      "image/png": "[encoded data removed]",
      "text/plain": [
       "<Figure size 432x288 with 1 Axes>"
      ]
     },
     "metadata": {
      "needs_background": "light"
     },
     "output_type": "display_data"
    }
   ],
   "source": [
    "# we should be able to do the same with workflow durations, using a similar SQL+python combination\n",
    "# which I hardcode here, but which I hope leads to something factorisable:\n",
    "\n",
    "sql= \"\"\"\n",
    "select julianday(end_event.time) - julianday(start_event.time) as duration\n",
    "from span, event as start_event, event as end_event\n",
    "where span.type='parsl.workflow'\n",
    "and start_event.span_uuid = span.uuid and start_event.type = 'began'\n",
    "and end_event.span_uuid = span.uuid and end_event.type = 'completed'\n",
    "order by duration;\"\"\"\n",
    "rows = list(c.execute(sql))\n",
    "print(len(rows))\n",
    "\n",
    "# rows is a list of one-element tuple (days,)\n",
    "# so extract that single value and rescale to seconds\n",
    "rows = [r[0] * 24 * 60 * 60 for r in rows]\n",
    "print(rows[0])\n",
    "plt.hist(rows)\n",
    "plt.show()"
   ]
  },
  {
   "cell_type": "code",
   "execution_count": 96,
   "id": "4406bc92",
   "metadata": {},
   "outputs": [
    {
     "name": "stdout",
     "output_type": "stream",
     "text": [
      "('9998ac21-9317-42af-a359-0a7f35151a63',)\n",
      "9998ac21-9317-42af-a359-0a7f35151a63\n"
     ]
    }
   ],
   "source": [
    "# now i'd like to do stuff with just the most recent workflow\n",
    "\n",
    "# so discover the top level span ID for the most recently started workflow:\n",
    "\n",
    "sql=\"\"\"\n",
    "select span.uuid\n",
    "from span, event\n",
    "where span.type = 'parsl.workflow'\n",
    "and event.span_uuid = span.uuid\n",
    "and event.type = 'began'\n",
    "order by event.time desc\n",
    "limit 1\n",
    "\"\"\"\n",
    "\n",
    "rows = list(c.execute(sql))\n",
    "for row in rows:\n",
    "    print(row)\n",
    "latest_workflow_span_uuid = row[0]\n",
    "print(latest_workflow_span_uuid)"
   ]
  },
  {
   "cell_type": "code",
   "execution_count": 101,
   "id": "a1a557d2",
   "metadata": {},
   "outputs": [
    {
     "name": "stdout",
     "output_type": "stream",
     "text": [
      "260\n"
     ]
    }
   ],
   "source": [
    "# how many tasks are in this workflow?\n",
    "sql=\"\"\"\n",
    "select task_span.uuid\n",
    "from span as task_span,\n",
    "     subspan\n",
    "where subspan.superspan_uuid = ?\n",
    "and subspan.subspan_uuid = task_span.uuid\n",
    "\"\"\"\n",
    "rows = list(c.execute(sql, (latest_workflow_span_uuid,)))\n",
    "print(len(rows))"
   ]
  },
  {
   "cell_type": "code",
   "execution_count": 118,
   "id": "971e2827",
   "metadata": {},
   "outputs": [
    {
     "data": {
      "image/png": "[encoded data removed]",
      "text/plain": [
       "<Figure size 432x288 with 1 Axes>"
      ]
     },
     "metadata": {
      "needs_background": "light"
     },
     "output_type": "display_data"
    }
   ],
   "source": [
    "# For this one workflow, let's plot the start and end times for each task in something a bit like a Gantt chart\n",
    "# For tasks, this usually looks good for toy workflows but fairly meaningless for workflows at scale.\n",
    "# but the technique can probably look good for other low-cardinality spans (eg perhaps visualising blocks)\n",
    "\n",
    "# credit: https://towardsdatascience.com/gantt-charts-with-pythons-matplotlib-395b7af72d72\n",
    "\n",
    "# First, testing out how to use the `barh` plot:\n",
    "\n",
    "plt.barh([\"a\",\"b\",\"c\"], width=[5,6,7], left=[0,-0.5,1], color=[\"#FF0000\",\"#00FF00\",\"#0000FF\"])\n",
    "plt.show()"
   ]
  },
  {
   "cell_type": "code",
   "execution_count": 136,
   "id": "4cc5da92",
   "metadata": {},
   "outputs": [
    {
     "name": "stdout",
     "output_type": "stream",
     "text": [
      "260\n",
      "(2459766.085102859, 2.0763836801052094e-05)\n",
      "(2459766.087118044, 1.8101651221513748e-05)\n",
      "212523789752.887\n",
      "1.7939954996109009\n",
      "1.5639826655387878\n"
     ]
    }
   ],
   "source": [
    "# so lets make a structure with task durations - which I did earlier, but now want to restrict to the latest\n",
    "# workflow\n",
    "\n",
    "sql= \"\"\"\n",
    "select julianday(start_event.time), julianday(end_event.time) - julianday(start_event.time) as duration\n",
    "from span, event as start_event, event as end_event, subspan\n",
    "where span.type='parsl.task'\n",
    "and span.uuid = subspan.subspan_uuid and subspan.superspan_uuid = ?\n",
    "and start_event.span_uuid = span.uuid and start_event.type = 'invoked'\n",
    "and end_event.span_uuid = span.uuid and end_event.type = 'returned'\n",
    "order by start_event.time;\"\"\"\n",
    "rows = list(c.execute(sql, (latest_workflow_span_uuid,)))\n",
    "print(len(rows))\n",
    "print(rows[0])\n",
    "print(rows[-1])\n",
    "# rows is a list of one-element tuple (days,)\n",
    "# so extract that single value and rescale to seconds\n",
    "start_rows = [r[0] * 24 * 60 * 60 for r in rows]\n",
    "print(start_rows[0])\n",
    "duration_rows = [r[1] * 24 * 60 * 60 for r in rows]\n",
    "print(duration_rows[0])\n",
    "print(duration_rows[-1])\n",
    "\n"
   ]
  },
  {
   "cell_type": "code",
   "execution_count": 138,
   "id": "e63510b7",
   "metadata": {},
   "outputs": [
    {
     "data": {
      "text/plain": [
       "<BarContainer object of 260 artists>"
      ]
     },
     "execution_count": 138,
     "metadata": {},
     "output_type": "execute_result"
    },
    {
     "data": {
      "image/png": "[encoded data removed]",
      "text/plain": [
       "<Figure size 432x288 with 1 Axes>"
      ]
     },
     "metadata": {
      "needs_background": "light"
     },
     "output_type": "display_data"
    }
   ],
   "source": [
    "# now make a horizontal plot of this\n",
    "\n",
    "plt.barh(range(0,260), width=duration_rows, left=start_rows)"
   ]
  },
  {
   "cell_type": "code",
   "execution_count": null,
   "id": "3dc5c9d0",
   "metadata": {},
   "outputs": [],
   "source": []
  },
  {
   "cell_type": "code",
   "execution_count": null,
   "id": "5aea55b5",
   "metadata": {},
   "outputs": [],
   "source": []
  }
 ],
 "metadata": {
  "kernelspec": {
   "display_name": "Python 3",
   "language": "python",
   "name": "python3"
  },
  "language_info": {
   "codemirror_mode": {
    "name": "ipython",
    "version": 3
   },
   "file_extension": ".py",
   "mimetype": "text/x-python",
   "name": "python",
   "nbconvert_exporter": "python",
   "pygments_lexer": "ipython3",
   "version": "3.9.2"
  }
 },
 "nbformat": 4,
 "nbformat_minor": 5
}
